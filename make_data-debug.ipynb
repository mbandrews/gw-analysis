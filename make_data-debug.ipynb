{
 "cells": [
  {
   "cell_type": "code",
   "execution_count": 1,
   "id": "622ae2f0",
   "metadata": {},
   "outputs": [],
   "source": [
    "import os, glob, time\n",
    "import numpy as np\n",
    "from numpy.lib.stride_tricks import as_strided\n",
    "from proc_utils import *\n",
    "\n",
    "from gwdatafind import find_urls\n",
    "#import gwpy as gwpy\n",
    "from gwpy.io.gwf import get_channel_names\n",
    "from gwpy.timeseries import TimeSeries\n",
    "from gwpy.signal import filter_design\n",
    "#import pycbc as pycbc\n",
    "from pycbc import frame\n",
    "from pycbc.waveform import get_td_waveform\n",
    "from pycbc.detector import Detector\n",
    "\n",
    "import pyarrow.parquet as pq\n",
    "import pyarrow as pa\n",
    "\n",
    "import matplotlib.pyplot as plt\n",
    "# Not the same module the TimeSeries.Plot() calls, unfortunately\n",
    "#plt.rcParams['pdf.fonttype'] = 42\n",
    "#plt.rcParams['mathtext.fontset'] = 'cm'\n",
    "%matplotlib inline"
   ]
  },
  {
   "cell_type": "code",
   "execution_count": 2,
   "id": "b5e812cc",
   "metadata": {},
   "outputs": [
    {
     "name": "stdout",
     "output_type": "stream",
     "text": [
      ">> Making waveforms...\n",
      ".. window length: 4 s\n",
      ".. stride length: 0 s\n",
      ".. highpass preselection: f > 16 Hz\n",
      ".. whitening FFT (window, stride): (4, 2) s\n",
      ".. bandpass selection: 35 < f < 250 Hz\n",
      ".. inject signal? True\n"
     ]
    }
   ],
   "source": [
    "###################################################################\n",
    "# Processing params\n",
    "t_window  = 4.5 #6 #16 #12 # s\n",
    "t_stride  = 0.5 #1 #4 #12 # s\n",
    "fcalib_lo = 16. # Hz\n",
    "fsg_lo    = 35.\n",
    "fsg_hi    = 250.\n",
    "whiten_fft = (4, 2) # s (fft length, stride) in s\n",
    "inj_sg = True\n",
    "#inj_sg = False\n",
    "print('>> Making waveforms...')\n",
    "print('.. window length: %d s'%t_window)\n",
    "print('.. stride length: %d s'%t_stride)\n",
    "print('.. highpass preselection: f > %d Hz'%fcalib_lo)\n",
    "print('.. whitening FFT (window, stride):',whiten_fft, 's')\n",
    "print('.. bandpass selection: %d < f < %d Hz'%(fsg_lo, fsg_hi))\n",
    "print('.. inject signal? %s'%str(inj_sg))"
   ]
  },
  {
   "cell_type": "code",
   "execution_count": 3,
   "id": "f5a20164",
   "metadata": {},
   "outputs": [
    {
     "name": "stdout",
     "output_type": "stream",
     "text": [
      ">> Fetching data for GPS time: [1126076416.000000, 1126080516.000000)\n",
      ".. total time: 4100.000000 s\n",
      ".. N files expected: 2.0\n",
      ".. host: datafind.gw-openscience.org\n",
      ">> Input files...\n",
      ".. cwd: /export/home/phys/mbandrews/work/gw\n",
      ".. data/O1/test/H-H1_LOSC_4_V1-1126076416-4096.gwf\n",
      ".. data/O1/test/H-H1_LOSC_4_V1-1126080512-4096.gwf\n",
      ".. rand seed to be used: 1126076416\n"
     ]
    }
   ],
   "source": [
    "###################################################################\n",
    "# Read in inputs\n",
    "#start = 1126256640 # GW150914 file start\n",
    "#start = 1126259446 # GW150914: 32 s window start, until 1126259478\n",
    "\n",
    "#start = 1126072320 # O1, first: lots of nans\n",
    "start = 1126076416 # O1, second\n",
    "\n",
    "#end_offset = 1\n",
    "end_offset = t_window - t_stride # how much to read into following file, for continuity at file boundaries\n",
    "\n",
    "end = 1126080512+end_offset # O1, third\n",
    "#end = start+t_window #32 # s\n",
    "\n",
    "print('>> Fetching data for GPS time: [%f, %f)'%(start, end))\n",
    "print('.. total time: %f s'%(end-start))\n",
    "ntimes = 1 + (end-start)//4096\n",
    "print('.. N files expected:',ntimes)\n",
    "\n",
    "#host = 'gw-openscience.org' # open data url but doesnt work, has to be done manually, but can also use pycbc get()\n",
    "host = 'datafind.gw-openscience.org' # cvmfs, see: https://computing.docs.ligo.org/guide/cvmfs/#gwosc.osgstorage.org\n",
    "print('.. host:',host)\n",
    "files = find_urls('H', 'H1_LOSC_4_V1', start, end, host=host) # fails if invalid range given (e.g. start > stop)\n",
    "\n",
    "print('>> Input files...')\n",
    "print('.. cwd:',os.getcwd())\n",
    "# https://www.gw-openscience.org/archive/data/O1/1125122048/H-H1_LOSC_4_V1-1126072320-4096.gwf, 1st\n",
    "# https://www.gw-openscience.org/archive/data/O1/1125122048/H-H1_LOSC_4_V1-1126076416-4096.gwf, 2nd\n",
    "# ...\n",
    "# https://www.gw-openscience.org/archive/data/O1/1136656384/H-H1_LOSC_4_V1-1137250304-4096.gwf, last\n",
    "mydir = 'data/O1/test'\n",
    "inputfiles = ['%s/%s'%(mydir, f.split('/')[-1]) for f in files]\n",
    "assert len(inputfiles) == ntimes\n",
    "for f in inputfiles:\n",
    "    print('..',f)\n",
    "    assert os.path.exists(f)\n",
    "    \n",
    "seed_from_file = int(inputfiles[0].split('-')[-2])\n",
    "print('.. rand seed to be used:',seed_from_file)"
   ]
  },
  {
   "cell_type": "code",
   "execution_count": 4,
   "id": "3c2e0908",
   "metadata": {},
   "outputs": [
    {
     "name": "stdout",
     "output_type": "stream",
     "text": [
      "/export/home/phys/mbandrews/work/gw\n"
     ]
    }
   ],
   "source": [
    "print(os.getcwd())\n",
    "#inputfiles = ['data/O1/gwf/H-H1_LOSC_4_V1-1126117376-4096.gwf']\n",
    "inputfiles = ['data/O1/gwf/H-H1_LOSC_4_V1-1126555648-4096.gwf']"
   ]
  },
  {
   "cell_type": "code",
   "execution_count": 5,
   "id": "dc3407c3",
   "metadata": {},
   "outputs": [
    {
     "name": "stdout",
     "output_type": "stream",
     "text": [
      "H1:LOSC-DQMASK H1:LOSC-INJMASK H1:LOSC-STRAIN\n",
      ">> Available channels:\n",
      ".. strain data : H1:LOSC-STRAIN\n",
      ".. data quality: H1:LOSC-DQMASK\n",
      ".. hardware inj: H1:LOSC-INJMASK\n"
     ]
    }
   ],
   "source": [
    "###################################################################\n",
    "# Check input file channels\n",
    "kdq, kinj, kdata = get_channel_names(inputfiles[0])\n",
    "print(kdq, kinj, kdata)\n",
    "print('>> Available channels:')\n",
    "print('.. strain data :',kdata)\n",
    "print('.. data quality:',kdq)\n",
    "print('.. hardware inj:',kinj)"
   ]
  },
  {
   "cell_type": "code",
   "execution_count": 6,
   "id": "0466d399",
   "metadata": {},
   "outputs": [
    {
     "name": "stdout",
     "output_type": "stream",
     "text": [
      ">> Reading frames...\n",
      "TimeSeries([6.09857293e-19, 5.34426124e-19, 5.46468684e-19, ...,\n",
      "            1.52980890e-19, 1.84861617e-19, 1.82384122e-19]\n",
      "           unit: dimensionless,\n",
      "           t0: 1126555648.0 s,\n",
      "           dt: 0.000244140625 s,\n",
      "           name: H1:LOSC-STRAIN,\n",
      "           channel: H1:LOSC-STRAIN)\n",
      ".. sample_rate: 4096.0 Hz\n",
      ".. [t0, tf): [1126555648.000000, 1126559744.000000) s\n",
      ".. duration: 4096.000000 s\n",
      ".. dt: 0.000244 s\n",
      ".. len(series): 16777216\n",
      ".. GPS times: [1.12655565e+09 1.12655565e+09 1.12655565e+09 ... 1.12655974e+09\n",
      " 1.12655974e+09 1.12655974e+09] s\n",
      ".. time span: [1126555648.0 ... 1126559744.0)\n",
      ".. times[ 0]: 1126555648.0 s\n",
      ".. times[-1]: 1126559743.9997559 s\n",
      ".. len(times): 16777216\n"
     ]
    }
   ],
   "source": [
    "###################################################################\n",
    "# Read in gwf frames\n",
    "print('>> Reading frames...')\n",
    "series = TimeSeries.read(inputfiles, kdata)#, start=start, end=end)\n",
    "series_dq = TimeSeries.read(inputfiles, kdq)#, start=start, end=end)\n",
    "series_inj = TimeSeries.read(inputfiles, kinj)#, start=start, end=end)\n",
    "\n",
    "# see: https://gwpy.github.io/docs/stable/api/gwpy.timeseries.TimeSeries.html#gwpy.timeseries.TimeSeries\n",
    "print(series)\n",
    "print('.. sample_rate:',series.sample_rate)\n",
    "t0 = series.t0.value\n",
    "dt = series.dt.value\n",
    "t_total = series.duration.value\n",
    "tf = t0 + t_total\n",
    "print('.. [t0, tf): [%f, %f) s'%(t0, tf))\n",
    "print('.. duration: %f s'%t_total)\n",
    "print('.. dt: %f s'%dt)\n",
    "print('.. len(series):',len(series))\n",
    "#assert t_total == end-start\n",
    "assert len(series) == series.duration.value/series.dt.value\n",
    "\n",
    "times = series.times.value\n",
    "print('.. GPS times:',series.times)\n",
    "print('.. time span:',series.xspan)\n",
    "print('.. times[ 0]:',series.times[0])\n",
    "print('.. times[-1]:',series.times[-1])\n",
    "print('.. len(times):',len(times))\n",
    "assert len(series) == len(times)"
   ]
  },
  {
   "cell_type": "code",
   "execution_count": 7,
   "id": "e0aec189",
   "metadata": {},
   "outputs": [
    {
     "name": "stdout",
     "output_type": "stream",
     "text": [
      ">> Initializing output...\n",
      ".. parquet output: H-H1_LOSC_4_V1-1126555648-4096_sgbg.parquet\n"
     ]
    }
   ],
   "source": [
    "###################################################################\n",
    "# Initialize pq output params\n",
    "print('>> Initializing output...')\n",
    "outname = inputfiles[0].split('/')[-1].split('.')[0]\n",
    "pqout = '%s_%s.parquet'%(outname, 'sgbg' if inj_sg else 'bg')\n",
    "print('.. parquet output:',pqout)"
   ]
  },
  {
   "cell_type": "code",
   "execution_count": 8,
   "id": "deeda01a",
   "metadata": {},
   "outputs": [
    {
     "name": "stdout",
     "output_type": "stream",
     "text": [
      "[8 0 0 3 9]\n",
      "[8 9 4 2 4]\n",
      ">> Making time segments via striding...\n",
      ".. len(window): 18432\n",
      ".. len(stride): 2048\n",
      ".. N segments: 8184.0\n",
      ".. N segments: 8184\n",
      ".. timesegs[ 0][ 0]: 1126555648.000000 s\n",
      ".. timesegs[-1][-1]: 1126559743.999756 s\n",
      "[[1.12655565e+09 1.12655565e+09 1.12655565e+09 ...\n",
      "  1.12655565e+09 1.12655565e+09 1.12655565e+09]\n",
      " [1.12655565e+09 1.12655565e+09 1.12655565e+09 ...\n",
      "  1.12655565e+09 1.12655565e+09 1.12655565e+09]\n",
      " [1.12655565e+09 1.12655565e+09 1.12655565e+09 ...\n",
      "  1.12655565e+09 1.12655565e+09 1.12655565e+09]\n",
      " ...\n",
      " [1.12655565e+09 1.12655565e+09 1.12655565e+09 ...\n",
      "  1.12655566e+09 1.12655566e+09 1.12655566e+09]\n",
      " [1.12655565e+09 1.12655565e+09 1.12655565e+09 ...\n",
      "  1.12655566e+09 1.12655566e+09 1.12655566e+09]\n",
      " [1.12655565e+09 1.12655565e+09 1.12655565e+09 ...\n",
      "  1.12655566e+09 1.12655566e+09 1.12655566e+09]]\n",
      ".. amount to truncate on either side of waveform, after whitening: 2 s (8192 elements)\n",
      ".. effective waveform window per time segment: 0 s (2048 elements)\n"
     ]
    }
   ],
   "source": [
    "###################################################################\n",
    "# Set segment params\n",
    "# For this job, set random seed based on first input file GPS time\n",
    "np.random.seed(seed_from_file)\n",
    "#from numpy.random import MT19937\n",
    "#from numpy.random import RandomState, SeedSequence\n",
    "#rs = RandomState(MT19937(SeedSequence(seed_from_file)))\n",
    "print(np.random.randint(10, size=5))\n",
    "print(np.random.randint(10, size=5))\n",
    "\n",
    "# Choose a GPS end time, sky location, and polarization phase for the merger\n",
    "# NOTE: Right ascension and polarization phase runs from 0 to 2pi\n",
    "#       Declination runs from pi/2. to -pi/2 with the poles at pi/2. and -pi/2.\n",
    "# See known events: https://www.gw-openscience.org/eventapi/html/allevents/\n",
    "#\n",
    "print('>> Making time segments via striding...')\n",
    "\n",
    "window = int(t_window//dt) # steps\n",
    "stride = int(t_stride//dt) # steps\n",
    "assert t_window <= t_total\n",
    "assert t_window >= t_stride\n",
    "print('.. len(window):', window)\n",
    "print('.. len(stride):', stride)\n",
    "\n",
    "# Get stride params\n",
    "byte_strides = (times.strides[0]*stride, times.strides[0])\n",
    "nsegs = (len(times)-window)/stride + 1\n",
    "print('.. N segments:', nsegs)\n",
    "if nsegs%1 != 0:\n",
    "    print(nsegs)\n",
    "    print('!! WARNING: series will be truncated!')\n",
    "nsegs = int(np.floor(nsegs))\n",
    "print('.. N segments:', nsegs)\n",
    "\n",
    "# Do actual strides to make time segments\n",
    "timesegs = as_strided(times, shape=(nsegs, window), strides=byte_strides)\n",
    "print('.. timesegs[ 0][ 0]: %f s'%timesegs[0][0])\n",
    "print('.. timesegs[-1][-1]: %f s'%timesegs[-1][-1])\n",
    "assert nsegs == len(timesegs)\n",
    "print(timesegs[:10])\n",
    "\n",
    "# Calculate effective windows\n",
    "t_trunc   = 2. # s: how much to truncate at start and end of series after whitening, to remove artifacts\n",
    "n_trunc   = int(t_trunc//dt) # N elements in t_trunc\n",
    "t_eff     = t_window - 2*(t_trunc)\n",
    "print('.. amount to truncate on either side of waveform, after whitening: %d s (%d elements)'%(t_trunc, n_trunc))\n",
    "print('.. effective waveform window per time segment: %d s (%d elements)'%(t_eff, t_eff//dt))\n",
    "\n",
    "###################################################################\n",
    "# Set BBH sim params\n",
    "if inj_sg:\n",
    "    # Make uniform distn\n",
    "    # [a, b) ~ (b-a)*np.random.random(size) + a\n",
    "\n",
    "    # Time placement of GW signal\n",
    "    # defines *end time* of GW signal\n",
    "    t_pad_lo   = 0.25 # s how near to left end of t_eff to place signal\n",
    "    t_pad_hi   = 0.   # s how near to right end of t_eff to place signal\n",
    "    t_gwoff_lo = t_trunc+t_eff-t_pad_lo+dt\n",
    "    t_gwoff_hi = t_trunc+t_pad_hi+dt\n",
    "    #print(t_gwoff_lo, t_gwoff_hi)\n",
    "    # offset to apply from end time of noise waveform\n",
    "    t_gwoffs   = (t_gwoff_hi-t_gwoff_lo)*np.random.random(nsegs) + t_gwoff_lo #-24 # end of GW\n",
    "    #print(t_gwoff_lo, t_gwoff_hi, t_gwoffs[-5:])\n",
    "\n",
    "    # BBH phase space\n",
    "    mlo, mhi = 10., 50.\n",
    "    dlo, dhi = 5.e2, 1.e3\n",
    "    m1s   = (mhi-mlo)*np.random.random(nsegs) + mlo    # in M_sun. GW150914: ~35M_sun. [10, 100] -> [10, 50]\n",
    "    m2s   = (mhi-mlo)*np.random.random(nsegs) + mlo    # in M_sun. GW150914: ~30M_sun. [10, 100] -> [10, 50]\n",
    "    dists = (dhi-dlo)*np.random.random(nsegs) + dlo    # 340Mpc, distance to detector, in Mpc, [1e2, 5e3], Andromeda galaxy about ~< 1 Mpc away from Earth.\n",
    "    decs  = 2*np.pi*np.random.random(nsegs) - np.pi/2. #0.65 # declination: [-pi/2, pi/2)\n",
    "    ras   = 2*np.pi*np.random.random(nsegs)            #0. # right ascension: [0, 2pi]\n",
    "    pols  = 2*np.pi*np.random.random(nsegs) - np.pi/2. #0. # polarization: [-pi, pi) or [0, 2pi] (controls phase of wave)"
   ]
  },
  {
   "cell_type": "code",
   "execution_count": 13,
   "id": "878098a7",
   "metadata": {
    "scrolled": false
   },
   "outputs": [
    {
     "name": "stdout",
     "output_type": "stream",
     "text": [
      ">> Looping over time segments...\n",
      ".. 0 / 8184\n",
      "1126555648.0 1126555652.5\n",
      "6.098572925203029e-19 5.34426123558277e-19 5.464686842627261e-19 6.119405640625567e-19\n",
      "   .. whitened series duration: 0.5 s\n",
      ">> Done.\n",
      ".. nwrite / nsegs: 1 / 8184\n",
      ".. processing time: 0.059736 s\n"
     ]
    },
    {
     "data": {
      "image/png": "[encoded data removed]",
      "text/plain": [
       "<Plot size 864x288 with 1 Axes>"
      ]
     },
     "metadata": {
      "needs_background": "light"
     },
     "output_type": "display_data"
    }
   ],
   "source": [
    "###################################################################\n",
    "# Make time segments\n",
    "print('>> Looping over time segments...')\n",
    "\n",
    "data = {}   # will hold values to be written to parquet\n",
    "nprint = 100 # Frequency of debug prints\n",
    "nwrite = 0   # N segments actually written out after quality cuts\n",
    "\n",
    "now = time.time()\n",
    "for i in range(nsegs):\n",
    "    \n",
    "    if i%nprint == 0:\n",
    "        print('.. %d / %d'%(i, nsegs))\n",
    "    if i>200:\n",
    "        pass\n",
    "        break\n",
    "\n",
    "    # Get time window for this segment\n",
    "    tseg = timesegs[i]\n",
    "    tstart, tend = tseg[0], tseg[-1]+dt # stride generates [t0, t1), so need to add +dt to get full t_window\n",
    "    assert t_window == tend-tstart\n",
    "    \n",
    "    # Get data for this segment\n",
    "    batch = series.crop(tstart, tend)\n",
    "    dqs = series_dq.crop(tstart, tend)\n",
    "    injs = series_inj.crop(tstart, tend)\n",
    "    assert batch.duration.value == t_window\n",
    "    #print(batch[0], batch[1], batch[2], batch[3])\n",
    "    if i%nprint == 0:\n",
    "        print(tstart, tend)\n",
    "        print(batch[0], batch[1], batch[2], batch[3])\n",
    "    \n",
    "    # Quality cuts\n",
    "    # NOTE: only needs to be checked for effective window\n",
    "    # i.e. full window less truncated segments\n",
    "    # Make sure no NaNs\n",
    "    if np.any(np.isnan(batch.value[n_trunc:-n_trunc])):\n",
    "        pass\n",
    "        continue\n",
    "    # Make sure DQ:CAT3 for both CBC and burst\n",
    "    if np.any(dqs.value[n_trunc:-n_trunc] != 127):\n",
    "        pass\n",
    "        continue\n",
    "    # Make sure there were no hardware injs\n",
    "    if np.any(injs.value[n_trunc:-n_trunc] != 31):\n",
    "        pass\n",
    "        continue\n",
    "        \n",
    "    debug = True #if i%nprint == 0 else False\n",
    "    inj_sg = False\n",
    "\n",
    "    # Waveform processing\n",
    "    if inj_sg:\n",
    "        # Generate GW signal\n",
    "        saveplot = '%s_sg_seg%05d.pdf'%(outname, i)\n",
    "        #sg = make_bbh(m1s[i], m2s[i], dists[i], decs[i], ras[i], pols[i], tend-t_gwoffs[i], fcalib_lo, dt, debug=debug, saveplot=saveplot)\n",
    "        sg = make_bbh(25., 25., 300., decs[i], ras[i], pols[i], tend-t_gwoffs[i]-0.1, fcalib_lo, dt, debug=debug, saveplot=saveplot)    \n",
    "        # Inject signal into data\n",
    "        sb = batch.inject(sg)\n",
    "        # Process waveform\n",
    "        saveplot = '%s_sgbg_seg%05d.pdf'%(outname, i)\n",
    "        #wav = process_strain(sb, w=whiten_fft, fcalib_lo=fcalib_lo, fsg_lo=fsg_lo, fsg_hi=fsg_hi, t_trunc=t_trunc, dt=dt, debug=debug, saveplot=saveplot)\n",
    "        wav = process_strain(sb, w=whiten_fft, fcalib_lo=fcalib_lo, fsg_lo=None, fsg_hi=None, t_trunc=t_trunc, dt=dt, debug=debug, saveplot=saveplot)\n",
    "    else:\n",
    "        # Process waveform\n",
    "        saveplot = '%s_bg_seg%05d.pdf'%(outname, i)\n",
    "        wav = process_strain(batch, w=whiten_fft, fcalib_lo=fcalib_lo, fsg_lo=None, fsg_hi=None, t_trunc=t_trunc, dt=dt, debug=debug, saveplot=saveplot)\n",
    "    \n",
    "    #plot_series(wav, ylims=[-2.5, 2.5])\n",
    "    plot_series(wav)#, ylims=[-10., 10.])\n",
    "    '''\n",
    "    # Write to parquet\n",
    "    # First, convert to dict\n",
    "    data['strain'] = wav.value\n",
    "    data['t0']     = wav.times.value[0]\n",
    "    data['y']      = 1. if inj_sg else 0.\n",
    "    data['m1']     = m1s[i]\n",
    "    data['m2']     = m2s[i]\n",
    "    data['dist']   = dists[i]\n",
    "    data['dec']    = decs[i]\n",
    "    data['ra']     = ras[i]\n",
    "    data['pol']    = pols[i]\n",
    "    data['toff']   = t_eff-t_gwoffs[i] # store offset from start time of this waveform instead\n",
    "    # Then convert to pq arrays\n",
    "    pqdata = [pa_array(d) for d in data.values()]\n",
    "    # Then convert to pq table\n",
    "    table = pa.Table.from_arrays(pqdata, list(data.keys()))\n",
    "    # Write table to pq file\n",
    "    if nwrite == 0:\n",
    "        writer = pq.ParquetWriter(pqout, table.schema, compression='snappy')\n",
    "    writer.write_table(table)\n",
    "    '''\n",
    "    nwrite += 1\n",
    "    break\n",
    "\n",
    "#writer.close()\n",
    "proc_time = time.time() - now\n",
    "print('>> Done.')\n",
    "#print('deltat:',deltats[1]-deltats[0])\n",
    "print('.. nwrite / nsegs: %d / %d'%(nwrite, nsegs))\n",
    "print('.. processing time: %s'%('%f s'%proc_time if proc_time <= 60 else '%f min'%proc_time/60.))"
   ]
  },
  {
   "cell_type": "code",
   "execution_count": 14,
   "id": "a8d032b4",
   "metadata": {},
   "outputs": [
    {
     "name": "stdout",
     "output_type": "stream",
     "text": [
      "7.2793983861637255\n"
     ]
    },
    {
     "data": {
      "image/png": "[encoded data removed]",
      "text/plain": [
       "<Figure size 432x288 with 1 Axes>"
      ]
     },
     "metadata": {
      "needs_background": "light"
     },
     "output_type": "display_data"
    }
   ],
   "source": [
    "xstrain = wav.value\n",
    "print(np.mean(xstrain))\n",
    "plt.plot(xstrain)\n",
    "plt.show()"
   ]
  },
  {
   "cell_type": "code",
   "execution_count": 33,
   "id": "974dd5be",
   "metadata": {},
   "outputs": [],
   "source": [
    "# Do a read test\n",
    "pqin = pq.ParquetFile('data/O1/parquet/m20to50_d1E2to5E2_teff0.5s_tw4.5s_ts0.5s_nobp/O1_H1_local_idx004_sgbg.parquet')\n",
    "#print(pqin.metadata)\n",
    "#print(pqin.schema)"
   ]
  },
  {
   "cell_type": "code",
   "execution_count": 41,
   "id": "e27e27fe",
   "metadata": {},
   "outputs": [
    {
     "name": "stdout",
     "output_type": "stream",
     "text": [
      "(2048,)\n",
      "-4.5634806e-08\n"
     ]
    },
    {
     "data": {
      "image/png": "[encoded data removed]",
      "text/plain": [
       "<Figure size 432x288 with 1 Axes>"
      ]
     },
     "metadata": {
      "needs_background": "light"
     },
     "output_type": "display_data"
    }
   ],
   "source": [
    "X = pqin.read_row_group(5, columns=['strain']).to_pydict()['strain']\n",
    "X = np.float32(X).flatten()\n",
    "X -= X.mean()\n",
    "print(X.shape)\n",
    "print(X.mean())\n",
    "plt.plot(X)\n",
    "plt.show()"
   ]
  },
  {
   "cell_type": "code",
   "execution_count": 9,
   "id": "05637da1",
   "metadata": {},
   "outputs": [
    {
     "name": "stdout",
     "output_type": "stream",
     "text": [
      "<pyarrow._parquet.FileMetaData object at 0x7f24aed03b48>\n",
      "  created_by: parquet-cpp-arrow version 5.0.0\n",
      "  num_columns: 10\n",
      "  num_rows: 11\n",
      "  num_row_groups: 11\n",
      "  format_version: 1.0\n",
      "  serialized_size: 10372\n",
      "<pyarrow._parquet.ParquetSchema object at 0x7f249f3173c8>\n",
      "required group field_id=-1 schema {\n",
      "  optional group field_id=-1 strain (List) {\n",
      "    repeated group field_id=-1 list {\n",
      "      optional float field_id=-1 item;\n",
      "    }\n",
      "  }\n",
      "  optional float field_id=-1 t0;\n",
      "  optional float field_id=-1 y;\n",
      "  optional float field_id=-1 m1;\n",
      "  optional float field_id=-1 m2;\n",
      "  optional float field_id=-1 dist;\n",
      "  optional float field_id=-1 dec;\n",
      "  optional float field_id=-1 ra;\n",
      "  optional float field_id=-1 pol;\n",
      "  optional float field_id=-1 toff;\n",
      "}\n",
      "\n",
      "OrderedDict([('t0', [1126076416.0]), ('y', [0.0]), ('m1', [38.64207077026367]), ('m2', [15.395029067993164])])\n"
     ]
    }
   ],
   "source": [
    "# Do a read test\n",
    "pqin = pq.ParquetFile(pqout)\n",
    "print(pqin.metadata)\n",
    "print(pqin.schema)\n",
    "X = pqin.read_row_group(0, columns=['t0','y','m1','m2']).to_pydict()\n",
    "print(X)"
   ]
  }
 ],
 "metadata": {
  "kernelspec": {
   "display_name": "Python 3",
   "language": "python",
   "name": "python3"
  },
  "language_info": {
   "codemirror_mode": {
    "name": "ipython",
    "version": 3
   },
   "file_extension": ".py",
   "mimetype": "text/x-python",
   "name": "python",
   "nbconvert_exporter": "python",
   "pygments_lexer": "ipython3",
   "version": "3.6.13"
  }
 },
 "nbformat": 4,
 "nbformat_minor": 5
}
