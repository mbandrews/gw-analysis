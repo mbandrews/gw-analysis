{
 "cells": [
  {
   "cell_type": "code",
   "execution_count": 1,
   "id": "d8eca6fa",
   "metadata": {},
   "outputs": [
    {
     "name": "stdout",
     "output_type": "stream",
     "text": [
      "Welcome to JupyROOT 6.24/06\n"
     ]
    }
   ],
   "source": [
    "import glob\n",
    "import ROOT\n",
    "import LIGO_style\n",
    "from astropy.time import Time\n",
    "from gwpy.io.gwf import get_channel_names\n",
    "from gwpy.timeseries import TimeSeries\n",
    "from proc_utils import *"
   ]
  },
  {
   "cell_type": "code",
   "execution_count": 2,
   "id": "b4fe9c1c",
   "metadata": {},
   "outputs": [
    {
     "name": "stderr",
     "output_type": "stream",
     "text": [
      "Loading: FrSerData\n",
      "Loading: FrSerData::n4294967295\n",
      "Loading: FrSummary\n",
      "Loading: FrSummary::n4294967295\n",
      "Loading: FrSerData\n",
      "Loading: FrSerData::n4294967295\n",
      "Loading: FrSummary\n",
      "Loading: FrSummary::n4294967295\n"
     ]
    }
   ],
   "source": [
    "# Download data from: https://www.gw-openscience.org/archive/O1/\n",
    "fs = glob.glob('data/O1/test/H-H1_LOSC_4_V1-1126256640-4096.gwf')\n",
    "\n",
    "f = fs[-1]\n",
    "kdq, kinj, kdata = get_channel_names(f)\n",
    "\n",
    "# 7s window around GW150914\n",
    "sgfirst = 1126259462-2+0.23\n",
    "tmin = sgfirst\n",
    "deltat = 4+3\n",
    "tmax = tmin + deltat\n",
    "\n",
    "# 32s window around GW150914\n",
    "#tmin = 1126259446\n",
    "#tmax = tmin + 32\n",
    "\n",
    "#series = TimeSeries.read(f, kdata)\n",
    "data = TimeSeries.read(f, kdata, start=tmin, end=tmax)\n",
    "#data = TimeSeries.fetch_open_data('H1', tmin, tmax) # download data in-place"
   ]
  },
  {
   "cell_type": "code",
   "execution_count": 3,
   "id": "de5bb40e",
   "metadata": {},
   "outputs": [
    {
     "name": "stdout",
     "output_type": "stream",
     "text": [
      "Croping: [1126259462.229980, 1126259462.479980) = 0.250000 s\n"
     ]
    }
   ],
   "source": [
    "# Process strain: calib BP, whiten, analysis BP\n",
    "# see proc_utils.py:process_strain()\n",
    "strain = process_strain(data, t_trunc=2) # truncate 2s from whitened strain to avoid corrupted edges\n",
    "\n",
    "# zoom in on main inspiral\n",
    "t_window = 1024*strain.dt.value # use even multiple of 1/(sampling freq = 4kHz): 0.25 s\n",
    "t_start = strain.t0.value\n",
    "t_end = t_start+t_window#+strain.dt.value\n",
    "print('Croping: [%f, %f) = %f s'%(t_start, t_end, t_end-t_start))\n",
    "gw = strain.crop(t_start, t_end) # [t_start, t_end)"
   ]
  },
  {
   "cell_type": "code",
   "execution_count": 4,
   "id": "fd4a82ed",
   "metadata": {},
   "outputs": [],
   "source": [
    "# Plot using gwpy matplotlib wrapper\n",
    "plot_series(gw)"
   ]
  },
  {
   "cell_type": "code",
   "execution_count": 5,
   "id": "bb5483e4",
   "metadata": {},
   "outputs": [
    {
     "name": "stdout",
     "output_type": "stream",
     "text": [
      "1024\n",
      "1126259462.2299805 1126259462.4797363\n",
      "0.25\n",
      "1024\n"
     ]
    }
   ],
   "source": [
    "# Get times, in s\n",
    "times = gw.times.value # numpy array of time edges\n",
    "print(len(times))\n",
    "# NOTE: t_start will be included but t_end will be excluded\n",
    "print(times[0], times[-1])\n",
    "# Get time duration, in s\n",
    "# This will be over full interval [t_start, t_end)\n",
    "t_total = gw.duration.value\n",
    "print(t_total)\n",
    "\n",
    "# Get amplitudes, in whitened strain\n",
    "amps = gw.value # numpy array of amplitdues between time edges\n",
    "print(len(amps))"
   ]
  },
  {
   "cell_type": "code",
   "execution_count": 6,
   "id": "1432981a",
   "metadata": {},
   "outputs": [],
   "source": [
    "# Style options for LIGO_style (based on CMS_style)\n",
    "\n",
    "def set_hist(h, xtitle, ytitle, htitle):\n",
    "    #c.SetLeftMargin(0.16)\n",
    "    #c.SetRightMargin(0.15)\n",
    "    #c.SetBottomMargin(0.13)\n",
    "    ROOT.gStyle.SetOptStat(0)\n",
    "\n",
    "    h.GetXaxis().SetLabelSize(0.04)\n",
    "    h.GetXaxis().SetLabelFont(42)\n",
    "    h.GetXaxis().SetTitle(xtitle)\n",
    "    h.GetXaxis().SetTitleOffset(0.09)\n",
    "    h.GetXaxis().SetTitleSize(0.06)\n",
    "    h.GetXaxis().SetTitleFont(42)\n",
    "\n",
    "    h.GetYaxis().SetLabelSize(0.04)\n",
    "    h.GetYaxis().SetLabelFont(42)\n",
    "    h.GetYaxis().SetTitleOffset(1.2)\n",
    "    h.GetYaxis().SetTitleSize(0.06)\n",
    "    h.GetYaxis().SetTitleFont(42)\n",
    "    h.GetYaxis().SetTitle(ytitle)\n",
    "\n",
    "    h.SetTitleSize(0.04)\n",
    "    h.SetTitleFont(42)\n",
    "    h.SetTitle(htitle)\n",
    "    h.SetTitleOffset(1.2)\n",
    "\n",
    "    #return h, c\n",
    "    return h\n",
    "\n",
    "ROOT.gStyle.SetPadTickX(1)\n",
    "ROOT.gStyle.SetPadTickY(1)\n",
    "LIGO_style.writeExtraText = 1\n",
    "LIGO_style.extraText = \"Hanford\" # H1\n",
    "LIGO_style.cmsTextOffset = 0.\n",
    "t_total_s = t_total # s\n",
    "t_total_str = '%ss'%(t_total_s)\n",
    "LIGO_style.lumi_sqrtS = \"%s (O1)\"%t_total_str # display waveform duration\n",
    "LIGO_style.lumi_sqrtS = \"%f GPST (O1)\"%t_start # display waveform GPS start time\n",
    "LIGO_style.lumi_sqrtS = \"%s UTC (O1)\"%Time(Time(t_start, format='gps'), format='iso', scale='utc') # display waveform UTC start time\n",
    "\n",
    "#iPos = 11 # inside frame\n",
    "iPos = 0 # above frame\n",
    "iPeriod = 0"
   ]
  },
  {
   "cell_type": "code",
   "execution_count": 7,
   "id": "151b5f6d",
   "metadata": {},
   "outputs": [
    {
     "name": "stdout",
     "output_type": "stream",
     "text": [
      "2015-09-14 09:50:45.230 UTC (O1)\n"
     ]
    },
    {
     "name": "stderr",
     "output_type": "stream",
     "text": [
      "Info in <TCanvas::Print>: pdf file gw.pdf has been created\n"
     ]
    },
    {
     "data": {
      "image/png": "[encoded data removed]",
      "text/plain": [
       "<IPython.core.display.Image object>"
      ]
     },
     "metadata": {},
     "output_type": "display_data"
    }
   ],
   "source": [
    "h, c, legend = {}, {}, {}\n",
    "\n",
    "k = 'gw'\n",
    "c[k] = ROOT.TCanvas(k, k, 960, 480)\n",
    "h[k] = ROOT.TH1F(k, k, len(amps), 0., t_total)\n",
    "\n",
    "\n",
    "for ib in range(1, h[k].GetNbinsX()+1):\n",
    "    h[k].SetBinContent(ib, amps[ib-1])\n",
    "\n",
    "h[k] = set_hist(h[k], 'Time [s]', 'Whitened strain', '')\n",
    "\n",
    "ROOT.gPad.SetTopMargin(0.09)\n",
    "ROOT.gPad.SetBottomMargin(0.17)\n",
    "ROOT.gPad.SetLeftMargin(0.09)\n",
    "ROOT.gPad.SetRightMargin(0.04)\n",
    "ROOT.TGaxis.fgMaxDigits = 3\n",
    "ROOT.gStyle.SetOptStat(0)\n",
    "ROOT.gStyle.SetErrorX(0.)\n",
    "#ROOT.gPad.SetLogx()\n",
    "#ROOT.gPad.SetLogy()\n",
    "\n",
    "ymin, ymax = -3., 3.\n",
    "h[k].GetYaxis().SetRangeUser(ymin, ymax)\n",
    "h[k].GetYaxis().SetTitleOffset(0.7)\n",
    "h[k].GetYaxis().SetTitleSize(0.06)\n",
    "h[k].GetYaxis().SetTitleFont(42)\n",
    "h[k].GetYaxis().SetLabelOffset(0.01)\n",
    "h[k].GetYaxis().SetLabelSize(0.06)\n",
    "h[k].GetYaxis().SetLabelFont(42)\n",
    "h[k].GetYaxis().SetTickLength(0.02)\n",
    "h[k].GetYaxis().SetNdivisions(408)\n",
    "#h[k].GetYaxis().SetNdivisions(404)\n",
    "#h[k].GetYaxis().SetMaxDigits(3)\n",
    "\n",
    "h[k].GetXaxis().SetTitleOffset(1.2)\n",
    "h[k].GetXaxis().SetTitleSize(0.06)\n",
    "h[k].GetXaxis().SetTitleFont(42)\n",
    "h[k].GetXaxis().SetLabelOffset(0.01)\n",
    "h[k].GetXaxis().SetLabelSize(0.06)\n",
    "h[k].GetXaxis().SetLabelFont(42)\n",
    "h[k].GetXaxis().SetTickLength(0.04)\n",
    "h[k].GetXaxis().SetNdivisions(508)\n",
    "\n",
    "# Line options\n",
    "h[k].SetLineColor(2)\n",
    "h[k].SetLineWidth(2)\n",
    "h[k].Draw('hist')\n",
    "\n",
    "legend[k] = ROOT.TLegend(0.12, 0.2, 0.12+0.25, 0.2+0.15) #(x1, y1, x2, y2)\n",
    "legend[k].AddEntry(h[k].GetName(), \"H1, observed\", \"l\")\n",
    "legend[k].SetBorderSize(0)\n",
    "legend[k].SetTextFont(42)\n",
    "legend[k].Draw(\"same\")\n",
    "\n",
    "#c[k].SetGridx(1)\n",
    "#c[k].SetGridy(1)\n",
    "c[k].RedrawAxis()\n",
    "c[k].Draw()\n",
    "\n",
    "LIGO_style.relPosX = 0.09\n",
    "LIGO_style.LIGO_style(c[k], iPeriod, iPos)\n",
    "\n",
    "c[k].Print('gw.pdf')"
   ]
  }
 ],
 "metadata": {
  "kernelspec": {
   "display_name": "Python 3",
   "language": "python",
   "name": "python3"
  },
  "language_info": {
   "codemirror_mode": {
    "name": "ipython",
    "version": 3
   },
   "file_extension": ".py",
   "mimetype": "text/x-python",
   "name": "python",
   "nbconvert_exporter": "python",
   "pygments_lexer": "ipython3",
   "version": "3.6.13"
  }
 },
 "nbformat": 4,
 "nbformat_minor": 5
}
