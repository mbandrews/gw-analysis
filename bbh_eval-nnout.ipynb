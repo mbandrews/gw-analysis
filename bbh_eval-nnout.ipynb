{
 "cells": [
  {
   "cell_type": "code",
   "execution_count": 1,
   "metadata": {},
   "outputs": [
    {
     "name": "stdout",
     "output_type": "stream",
     "text": [
      "Welcome to JupyROOT 6.24/06\n"
     ]
    }
   ],
   "source": [
    "import numpy as np # linear algebra\n",
    "run = 0\n",
    "np.random.seed(run)\n",
    "import os, glob, re\n",
    "import time\n",
    "import pyarrow as pa\n",
    "import pyarrow.parquet as pq\n",
    "import torch\n",
    "import torch.nn as nn\n",
    "import torch.nn.functional as F\n",
    "import torch.optim as optim\n",
    "from skimage.transform import rescale\n",
    "\n",
    "from sklearn import metrics\n",
    "from torch.utils.data import ConcatDataset, sampler, DataLoader #*\n",
    "from eval_utils import logger, do_eval_binary, do_eval_binary_sky\n",
    "from data_utils import ParquetDataset\n",
    "from network_utils import *\n",
    "\n",
    "import ROOT\n",
    "from array import array\n",
    "\n",
    "import matplotlib.pyplot as plt\n",
    "from matplotlib.colors import LogNorm\n",
    "from matplotlib.ticker import MultipleLocator, FixedLocator\n",
    "%matplotlib inline\n",
    "#plt.switch_backend('agg')\n",
    "#plt.rcParams[\"figure.figsize\"] = (5,5)\n",
    "\n",
    "import pandas as pd # data processing, CSV file I/O (e.g. pd.read_csv)"
   ]
  },
  {
   "cell_type": "code",
   "execution_count": 2,
   "metadata": {},
   "outputs": [],
   "source": [
    "# Specify which gpuid to use\n",
    "os.environ[\"CUDA_VISIBLE_DEVICES\"]=str(0)\n",
    "device = torch.device(\"cuda:0\" if torch.cuda.is_available() else \"cpu\") # :0 is always first *visible* device\n",
    "#device = torch.device(\"cpu\")"
   ]
  },
  {
   "cell_type": "code",
   "execution_count": 3,
   "metadata": {},
   "outputs": [
    {
     "name": "stdout",
     "output_type": "stream",
     "text": [
      "2.0 3 None\n",
      "['MODELS/BBH-H1-m20to50_d1E2to5E2_teff0.5s_tw4.5s_ts0.5s_resnet-scale2.0-premaxNone-fmaps4-6-8-12-blocks3-kernel7-down3_epochs50-ntrain72k-lr5Em04_run0/model_epoch27_auc0.9960.pkl']\n",
      ">> Model file: MODELS/BBH-H1-m20to50_d1E2to5E2_teff0.5s_tw4.5s_ts0.5s_resnet-scale2.0-premaxNone-fmaps4-6-8-12-blocks3-kernel7-down3_epochs50-ntrain72k-lr5Em04_run0/model_epoch27_auc0.9960.pkl\n"
     ]
    }
   ],
   "source": [
    "#expt_name = 'BBH-H1-m20to50_d1E2to5E2_teff0.5s_tw4.5s_ts0.5s_resnet-scale2.0-premax16-fmaps4-8-16-blocks3_epochs50-ntrain72k-lr5Em04_run1' #epoch32,29\n",
    "#expt_name = 'BBH-H1-m20to50_d1E2to5E2_teff0.5s_tw4.5s_ts0.5s_resnet-scale2.0-premaxNone-fmaps4-6-8-12-16-blocks3-kernel3-down2_epochs50-ntrain72k-lr5Em04_run0' #epoch24,25\n",
    "expt_name = 'BBH-H1-m20to50_d1E2to5E2_teff0.5s_tw4.5s_ts0.5s_resnet-scale2.0-premaxNone-fmaps4-6-8-12-blocks3-kernel7-down3_epochs50-ntrain72k-lr5Em04_run0' #epoch18,27\n",
    "\n",
    "#expt_name = 'BBH-H1-m20to50_d1E2to5E2_teff0.5s_tw4.5s_ts0.5s_nobp_resnet-scale5.0-shiftTrue-premaxNone-fmaps4-6-8-12-blocks3-kernel7-down3_epochs50-ntrain72k-lr5Em04_run0' #epoch21\n",
    "\n",
    "epoch = 27\n",
    "scale = float(re.search('scale([0-9]+?.[0-9]+?)-', expt_name).group(1))\n",
    "#nblocks = int(re.search('blocks([0-9]+?)_', expt_name).group(1))\n",
    "nblocks = int(re.search('blocks([0-9]+?)-', expt_name).group(1))\n",
    "#premax = int(re.search('premax([0-9]+?)-', expt_name).group(1))\n",
    "premax = None\n",
    "\n",
    "shift = True if 'nobp' in expt_name else False\n",
    "\n",
    "#down = args.down\n",
    "#fmaps = [4, 6, 8, 12, 16] # Resnet_deep\n",
    "fmaps = [4, 6, 8, 12] # Resnet_stride\n",
    "#fmaps = [4, 8, 16] # Resnet_premax\n",
    "#fmaps = [8, 16, 32]\n",
    "#fmaps = [24, 48, 96]\n",
    "#premax = 64 # 2s->128\n",
    "#premax = 16# 0.5s->128\n",
    "\n",
    "print(scale, nblocks, premax)\n",
    "#'''\n",
    "model_file = glob.glob('MODELS/%s/model_epoch%d_auc*.pkl'%(expt_name, epoch))\n",
    "print(model_file)\n",
    "assert len(model_file) == 1\n",
    "model_file = model_file[0]\n",
    "print(\">> Model file:\", model_file)\n",
    "'''\n",
    "###################################################################\n",
    "# Network architecture\n",
    "#model = ResNet(in_channels=1, nblocks=nblocks, fmaps=fmaps, kernel=3, debug=debug)\n",
    "if premax is None:\n",
    "    if len(fmaps) == 5:\n",
    "        logger(f, '>> Model: Resnet_deep')\n",
    "        model = ResNet_deep(in_channels=1, nblocks=nblocks, fmaps=fmaps, kernel=kernel, debug=debug)\n",
    "    else:\n",
    "        logger(f, '>> Model: Resnet_stride')\n",
    "        model = ResNet_stride(in_channels=1, nblocks=nblocks, fmaps=fmaps, down=down, kernel=kernel, debug=debug)\n",
    "else:\n",
    "    logger(f, '>> Model: Resnet_premax')\n",
    "    model = ResNet_premax(in_channels=1, nblocks=nblocks, fmaps=fmaps, premax=premax, kernel=kernel, debug=debug)\n",
    "'''\n",
    "#model = ResNet_deep(in_channels=1, nblocks=nblocks, fmaps=fmaps, kernel=3)\n",
    "model = ResNet_stride(in_channels=1, nblocks=nblocks, fmaps=fmaps, down=3, kernel=7)\n",
    "#model = ResNet_premax(in_channels=1, nblocks=nblocks, fmaps=fmaps, premax=premax, kernel=3)\n",
    "model.to(device)#.cuda()\n",
    "model.load_state_dict(torch.load('%s'%model_file)['model'])\n",
    "\n",
    "optimizer = optim.Adam(model.parameters(), lr=5.e-4) # not used, but needed by eval fn when making checkpoint"
   ]
  },
  {
   "cell_type": "code",
   "execution_count": 6,
   "metadata": {},
   "outputs": [
    {
     "name": "stdout",
     "output_type": "stream",
     "text": [
      ">> Input files: data/O1/parquet/m20to50_d1E2to5E2_teff0.5s_tw4.5s_ts0.5s/O1_H1_local_idx004_bg.parquet data/O1/parquet/m20to50_d1E2to5E2_teff0.5s_tw4.5s_ts0.5s/O1_H1_local_idx004_sgbg.parquet\n",
      "179952\n",
      ">> Random(10): 4 5 7 3 6 8 9 0 2 1\n"
     ]
    }
   ],
   "source": [
    "run = 0\n",
    "np.random.seed(run)\n",
    "###################################################################\n",
    "# Load data\n",
    "scenario = 'm20to50_d1E2to5E2_teff0.5s_tw4.5s_ts0.5s'\n",
    "#scenario = 'm20to50_d1E2to5E2_teff0.5s_tw4.5s_ts0.5s_nobp'\n",
    "# Get parquet files\n",
    "pqfiles = glob.glob('data/O1/parquet/%s/*_H1_*.parquet'%scenario)\n",
    "print('>> Input files: %s'%(' '.join(pqfiles)))\n",
    "dset_train = ConcatDataset([ParquetDataset(pqf, scale, shift, ndet=1) for pqf in pqfiles])\n",
    "print(len(dset_train))\n",
    "\n",
    "idxs = np.random.permutation(len(dset_train))\n",
    "print('>> Random(10): %s'%(' '.join([str(n) for n in np.random.permutation(10)])))\n",
    "n_train = 72000\n",
    "if n_train != -1:\n",
    "    assert n_train <= len(idxs)\n",
    "    idxs_train = idxs[:n_train]\n",
    "    idxs_val = idxs[n_train:]\n",
    "\n",
    "# Test set _______________________________________________________________________\n",
    "val_sampler = sampler.SubsetRandomSampler(idxs_val)\n",
    "val_loader = DataLoader(dataset=dset_train, batch_size=32, num_workers=2, sampler=val_sampler)"
   ]
  },
  {
   "cell_type": "code",
   "execution_count": 8,
   "metadata": {},
   "outputs": [
    {
     "name": "stdout",
     "output_type": "stream",
     "text": [
      "27: (0/3374) ...\n",
      "27: (674/3374) ...\n",
      "27: (1348/3374) ...\n",
      "27: (2022/3374) ...\n",
      "27: (2696/3374) ...\n",
      "27: (3370/3374) ...\n",
      "27: Val time:280.92s in 3374 steps for N:107952 samples\n",
      "27: Val loss:0.039044, auc:0.995975, TPR@FPR=0:0.979178\n",
      ">> Best Loss:3.904E-02 +/- 1.188E-04 @ epoch:1\n",
      ">> Best AUC:0.996 +/- 0.003 @ epoch:1\n",
      ">> Best TPR@FPR=0:0.979 +/- 0.004 @ epoch:1\n"
     ]
    }
   ],
   "source": [
    "aucs = []\n",
    "tpr_fpr0s = []\n",
    "losses = []\n",
    "debug = False\n",
    "\n",
    "#losses, aucs, tpr_fpr0s, fprs, tprs, thrs, y_trues, y_preds, y_probs, dists, m1s, m2s = \\\n",
    "#do_eval_binary(model, optimizer, device, val_loader, expt_name, epoch, losses, aucs, tpr_fpr0s, f=open('/dev/null', 'w'), debug=False, write_model=False)\n",
    "\n",
    "losses, aucs, tpr_fpr0s, fprs, tprs, thrs, y_trues, y_preds, y_probs, dists, m1s, m2s, decs, ras, nnouts = \\\n",
    "do_eval_binary_sky(model, optimizer, device, val_loader, expt_name, epoch, losses, aucs, tpr_fpr0s, f=open('/dev/null', 'w'), debug=debug, write_model=False)\n",
    "\n",
    "losses, aucs, tpr_fpr0s = np.array(losses), np.array(aucs), np.array(tpr_fpr0s)\n",
    "print('>> Best Loss:%4.3E +/- %4.3E @ epoch:%d'%(np.min(losses), np.min(losses)/np.sqrt(len(idxs_val)), np.argwhere(losses==np.min(losses))[0][0]+1))\n",
    "print('>> Best AUC:%4.3f +/- %4.3f @ epoch:%d'%(np.max(aucs), np.max(aucs)/np.sqrt(len(idxs_val)), np.argwhere(aucs==np.max(aucs))[0][0]+1))\n",
    "print('>> Best TPR@FPR=0:%4.3f +/- %4.3f @ epoch:%d'%(np.max(tpr_fpr0s), np.max(tpr_fpr0s)/np.sqrt(len(idxs_val)*np.max(tpr_fpr0s)/2.), np.argwhere(tpr_fpr0s==np.max(tpr_fpr0s))[0][0]+1))"
   ]
  },
  {
   "cell_type": "code",
   "execution_count": 9,
   "metadata": {},
   "outputs": [
    {
     "name": "stdout",
     "output_type": "stream",
     "text": [
      "bg: -19.8079891204834 6.569335460662842\n",
      "sg: -28.236713409423828 75.61447143554688\n"
     ]
    },
    {
     "data": {
      "image/png": "[encoded data removed]",
      "text/plain": [
       "<Figure size 432x288 with 1 Axes>"
      ]
     },
     "metadata": {
      "needs_background": "light"
     },
     "output_type": "display_data"
    },
    {
     "name": "stdout",
     "output_type": "stream",
     "text": [
      "0.9791775311033301\n"
     ]
    }
   ],
   "source": [
    "# print(y_trues.shape, y_probs.shape)\n",
    "nbins=76\n",
    "qstat = nnouts\n",
    "#qstat = np.log(1.+np.exp(nnouts))\n",
    "#qstat = 1.+np.exp(nnouts)\n",
    "#qstat = 1./(1 + np.exp(-nnouts))\n",
    "#xrange = [0., 10.]#qstat.max()]\n",
    "xrange = [qstat.min(), qstat.max()]\n",
    "\n",
    "bg_mask = (y_trues==0)\n",
    "sg_mask = (y_trues==1)\n",
    "\n",
    "qstat_bg = qstat[bg_mask]\n",
    "qstat_sg = qstat[sg_mask]\n",
    "\n",
    "print('bg:',qstat_bg.min(), qstat_bg.max())\n",
    "print('sg:',qstat_sg.min(), qstat_sg.max())\n",
    "plt.hist(qstat_bg, histtype='step', bins=nbins, label='bg', range=xrange)\n",
    "plt.hist(qstat_sg, histtype='step', bins=nbins, label='sg', range=xrange)\n",
    "#plt.xlim([0., 10.])\n",
    "#plt.xscale('log')\n",
    "plt.yscale('log')\n",
    "plt.legend(loc='upper center')\n",
    "plt.show()\n",
    "\n",
    "qstat_bg_max = qstat_bg.max()\n",
    "print(len(qstat_sg[qstat_sg>qstat_bg_max])/len(qstat_sg))"
   ]
  },
  {
   "cell_type": "code",
   "execution_count": 10,
   "metadata": {},
   "outputs": [],
   "source": [
    "def set_hist(h, xtitle, ytitle, htitle):\n",
    "    #c.SetLeftMargin(0.16)\n",
    "    #c.SetRightMargin(0.15)\n",
    "    #c.SetBottomMargin(0.13)\n",
    "    ROOT.gStyle.SetOptStat(0)\n",
    "\n",
    "    h.GetXaxis().SetLabelSize(0.04)\n",
    "    h.GetXaxis().SetLabelFont(42)\n",
    "    h.GetXaxis().SetTitle(xtitle)\n",
    "    h.GetXaxis().SetTitleOffset(0.09)\n",
    "    h.GetXaxis().SetTitleSize(0.06)\n",
    "    h.GetXaxis().SetTitleFont(42)\n",
    "\n",
    "    h.GetYaxis().SetLabelSize(0.04)\n",
    "    h.GetYaxis().SetLabelFont(42)\n",
    "    h.GetYaxis().SetTitleOffset(1.2)\n",
    "    h.GetYaxis().SetTitleSize(0.06)\n",
    "    h.GetYaxis().SetTitleFont(42)\n",
    "    h.GetYaxis().SetTitle(ytitle)\n",
    "\n",
    "    h.SetTitleSize(0.04)\n",
    "    h.SetTitleFont(62)\n",
    "    h.SetTitle(htitle)\n",
    "    h.SetTitleOffset(1.2)\n",
    "\n",
    "    #return h, c\n",
    "    return h"
   ]
  },
  {
   "cell_type": "code",
   "execution_count": 11,
   "metadata": {},
   "outputs": [
    {
     "name": "stdout",
     "output_type": "stream",
     "text": [
      "7h7m29s\n"
     ]
    }
   ],
   "source": [
    "import LIGO_style\n",
    "#tdrstyle.setTDRStyle()\n",
    "ROOT.gStyle.SetPadTickX(1)\n",
    "ROOT.gStyle.SetPadTickY(1)\n",
    "#change the CMS_lumi variables (see CMS_lumi.py)\n",
    "LIGO_style.writeExtraText = 1\n",
    "LIGO_style.extraText = \"Hanford\"\n",
    "LIGO_style.cmsTextOffset = 0.\n",
    "#t_total = 8*4096 # s\n",
    "t_total = int(0.5*len(idxs_val)/2)\n",
    "t_total_h = t_total//(60*60) # h\n",
    "t_total_m = (t_total%(60*60))//60 # m\n",
    "t_total_s = t_total_m%(60) # s\n",
    "t_total_str = '%sh%sm%ss'%(t_total_h, t_total_h, t_total_s)\n",
    "LIGO_style.lumi_sqrtS = \"%s (O1)\"%t_total_str # used with iPeriod = 0, e.g. for simulation-only plots (default is an empty string)\n",
    "#iPos = 11 # inside frame\n",
    "iPos = 0 # above frame\n",
    "if iPos==0: LIGO_style.relPosX = 0.16\n",
    "iPeriod = 0\n",
    "print(t_total_str)"
   ]
  },
  {
   "cell_type": "code",
   "execution_count": 12,
   "metadata": {},
   "outputs": [],
   "source": [
    "h, c, hc = {}, {}, {}\n",
    "line, legend = {}, {}\n",
    "nbins = 20\n",
    "wd, ht = int(480*1), int(420*1)"
   ]
  },
  {
   "cell_type": "code",
   "execution_count": 13,
   "metadata": {},
   "outputs": [
    {
     "name": "stdout",
     "output_type": "stream",
     "text": [
      "[0 1 2 3 4 5 6]\n",
      "[ 7 12 17 22 27 32 37 42 47 52 57 62 67 72 77]\n",
      "[ 0  1  2  3  4  5  6  7  8  9 10 11 12 13 14 15 16 17 18 19 20 21 22 23\n",
      " 24 25 26 27 28 29 30 31 32 33 34 35 36 37 38 39 40 41 42 43 44 45 46 47\n",
      " 48 49 50 51 52 53 54 55 56 57 58 59 60 61 62 63 64 65 66 67 68 69 70 71\n",
      " 72 73 74 75 76 77 78 79 80]\n"
     ]
    }
   ],
   "source": [
    "edges_ = {}\n",
    "#edges_[0] = np.arange(0,10,1)\n",
    "edges_[0] = np.arange(0,7,1)\n",
    "print(edges_[0])\n",
    "#edges_[1] = np.arange(10,80+10,10)\n",
    "edges_[1] = np.arange(7,77+5,5)\n",
    "print(edges_[1])\n",
    "edges = np.concatenate([edges_[e] for e in edges_])\n",
    "edges = np.arange(0,80+1,1)\n",
    "print(edges)\n",
    "\n",
    "nbins = len(edges)-1\n",
    "edges = array('d', edges)\n",
    "'''\n",
    "fprinv_edges = (1./fpr_edges)[::-1]\n",
    "fprinv_edges[-1] = 1.e6\n",
    "print(fprinv_edges)\n",
    "\n",
    "hsg = sg_thr[::-1]\n",
    "print(hsg)\n",
    "hbg = bg_thr[::-1]\n",
    "print(hbg)\n",
    "# NOTE: in this binning, bin_val | edge_i < bin_val <= edge_i+1\n",
    "# i.e. inclusive on upper edge, rather than on lower edge, so that\n",
    "# (1) top bg scores are histogrammed below FPinv max\n",
    "# (2) top sg scores dont go into overflow bin\n",
    "nbins = len(fprinv_edges)-1\n",
    "fprinv_edges = array('d', fprinv_edges)\n",
    "'''\n",
    "\n",
    "k = 'nsgvqstat'\n",
    "#h[k] = ROOT.TH1F(k, k, 80, 0., 80.)\n",
    "h[k] = ROOT.TH1F(k, k, nbins, edges)\n",
    "\n",
    "k = 'nbgvqstat'\n",
    "c[k] = ROOT.TCanvas('c'+k, 'c'+k, 480, 420)\n",
    "#h[k] = ROOT.TH1F(k, k, 80, 0., 80.)\n",
    "h[k] = ROOT.TH1F(k, k, nbins, edges)\n",
    "\n",
    "for q in qstat_bg:\n",
    "    h['nbgvqstat'].Fill(q)\n",
    "\n",
    "for q in qstat_sg:\n",
    "    h['nsgvqstat'].Fill(q)"
   ]
  },
  {
   "cell_type": "code",
   "execution_count": 14,
   "metadata": {},
   "outputs": [
    {
     "name": "stdout",
     "output_type": "stream",
     "text": [
      "7h7m29s (O1)\n"
     ]
    },
    {
     "data": {
      "image/png": "[encoded data removed]",
      "text/plain": [
       "<IPython.core.display.Image object>"
      ]
     },
     "metadata": {},
     "output_type": "display_data"
    }
   ],
   "source": [
    "err_style = 'E2'\n",
    "fill_style = 3002\n",
    "LIGO_style.relPosX = 0.16\n",
    "\n",
    "k = 'nbgvqstat'\n",
    "c[k].cd()\n",
    "#h[k] = set_hist(h[k], 'FAR^{-1}', 'Events', '')\n",
    "h[k] = set_hist(h[k], '#tilde{q}', 'Events', '')\n",
    "ROOT.gPad.SetTopMargin(0.08)\n",
    "ROOT.gPad.SetBottomMargin(0.15)\n",
    "ROOT.gPad.SetLeftMargin(0.15)\n",
    "ROOT.gPad.SetRightMargin(0.06) # without colz\n",
    "ROOT.TGaxis.fgMaxDigits = 3\n",
    "ROOT.gStyle.SetOptStat(0)\n",
    "ROOT.gStyle.SetErrorX(0.5)\n",
    "#ROOT.gPad.SetLogx()\n",
    "ROOT.gPad.SetLogy()\n",
    "\n",
    "ymin, ymax = 2.e-1, 9.e4\n",
    "h[k].GetYaxis().SetRangeUser(ymin, ymax)\n",
    "h[k].GetYaxis().SetTitleOffset(1.1)\n",
    "h[k].GetYaxis().SetTitleSize(0.06)\n",
    "h[k].GetYaxis().SetLabelSize(0.05)\n",
    "h[k].GetYaxis().SetLabelFont(42)\n",
    "h[k].GetYaxis().SetTickLength(0.01)\n",
    "h[k].GetYaxis().SetTitleFont(42)\n",
    "h[k].GetYaxis().SetMaxDigits(3)\n",
    "h[k].GetYaxis().SetNdivisions(-4)\n",
    "\n",
    "h[k].GetXaxis().SetTitleOffset(1.1)\n",
    "h[k].GetXaxis().SetTitleSize(0.06)\n",
    "h[k].GetXaxis().SetLabelSize(0.05)\n",
    "h[k].GetXaxis().SetLabelFont(42)\n",
    "h[k].GetXaxis().SetTitleFont(42)\n",
    "#h[k].GetXaxis().SetNdivisions(-405)\n",
    "h[k].GetXaxis().SetNdivisions(409)\n",
    "#h[k].GetXaxis().ChangeLabel(-1,-1,-1,-1,-1,-1, \"10^{#infty}\")\n",
    "#h[k].GetXaxis().ChangeLabel(-1,-1,0,-1,-1,-1, \"\")\n",
    "\n",
    "# bg, line\n",
    "h[k].Draw('hist')\n",
    "# bg, band\n",
    "hc[k] = h[k].Clone()\n",
    "hc[k].SetName(k+'band')\n",
    "hc[k].SetMarkerStyle(1)\n",
    "hc[k].SetMarkerSize(0)\n",
    "hc[k].SetLineColor(9)\n",
    "hc[k].SetFillColor(9)\n",
    "hc[k].SetFillStyle(fill_style)\n",
    "hc[k].Draw(\"%s same\"%err_style)\n",
    "\n",
    "k = 'nsgvqstat'\n",
    "# sg, line\n",
    "h[k].SetLineColor(2)\n",
    "h[k].Draw('hist same')\n",
    "# sg, band\n",
    "hc[k] = h[k].Clone()\n",
    "hc[k].SetName(k+'band')\n",
    "hc[k].SetMarkerStyle(1)\n",
    "hc[k].SetMarkerSize(0)\n",
    "hc[k].SetMarkerColor(2)\n",
    "hc[k].SetLineColor(2)\n",
    "hc[k].SetFillColor(2)\n",
    "hc[k].SetFillStyle(fill_style)\n",
    "hc[k].Draw(\"%s same\"%err_style)\n",
    "\n",
    "k = 'nbgvqstat'\n",
    "legend[k] = ROOT.TLegend(0.3, 0.25, 0.3+0.25, 0.25+0.15) #(x1, y1, x2, y2)\n",
    "legend[k].AddEntry(hc['nbgvqstat'].GetName(), \"Bkg\",     \"lf\")\n",
    "legend[k].AddEntry(hc['nsgvqstat'].GetName(), \"Bkg+BBH\", \"lf\")\n",
    "legend[k].SetBorderSize(0)\n",
    "legend[k].SetTextFont(42)\n",
    "legend[k].Draw(\"same\")\n",
    "\n",
    "kl1 = k+'l1'\n",
    "line[kl1] = ROOT.TLine(7., 0., 7., ymax) # x0,y0, x1,y1\n",
    "line[kl1].SetLineColor(14)\n",
    "line[kl1].SetLineStyle(7)\n",
    "line[kl1].Draw(\"same\")\n",
    "\n",
    "#kl2 = k+'l2'\n",
    "#line[kl2] = ROOT.TLine(fprinv_max, 0., fprinv_max, ymax) # x0,y0, x1,y1\n",
    "#line[kl2].SetLineColor(14)\n",
    "#line[kl2].SetLineStyle(7)\n",
    "#line[kl2].Draw(\"same\")\n",
    "\n",
    "c[k].RedrawAxis()\n",
    "c[k].Draw()\n",
    "\n",
    "LIGO_style.LIGO_style(c[k], iPeriod, iPos)"
   ]
  },
  {
   "cell_type": "code",
   "execution_count": 19,
   "metadata": {},
   "outputs": [
    {
     "name": "stdout",
     "output_type": "stream",
     "text": [
      "0.7787610619469026 1.0\n"
     ]
    },
    {
     "name": "stderr",
     "output_type": "stream",
     "text": [
      "Warning in <TCanvas::Constructor>: Deleting canvas with same name: csgeffqstat\n",
      "Warning in <TROOT::Append>: Replacing existing TH1: hsgeffqstat (Potential memory leak).\n"
     ]
    }
   ],
   "source": [
    "wd, ht = int(480*1), int(400*1)\n",
    "\n",
    "#thr_fprinv_glitch = thr_coarse[-5] #0.96222246\n",
    "\n",
    "k = 'sgeffqstat'\n",
    "c[k] = ROOT.TCanvas('c'+k, 'c'+k, wd, ht)\n",
    "h[k] = ROOT.TProfile2D('h'+k, 'h'+k, 10, 100, 500, 10, 40, 100)\n",
    "dists_sg = dists[sg_mask]\n",
    "#mtots_sg = mtots[sg_mask]\n",
    "mtots_sg = (m1s+m2s)[sg_mask]\n",
    "\n",
    "#y_probs_sg = y_probs[sg_mask]\n",
    "for i in range(len(mtots_sg)):\n",
    "    # top k\n",
    "    #h[k].Fill(dists_sg[i], mtots_sg[i], 1. if qstat_sg[i] >= 50. else 0.)\n",
    "    #h[k].Fill(dists_sg[i], mtots_sg[i], 1. if (qstat_sg[i] < 50. and qstat_sg[i] > qstat_bg_max) else 0.)\n",
    "    # high-purity regime\n",
    "    h[k].Fill(dists_sg[i], mtots_sg[i], 1. if qstat_sg[i] > qstat_bg_max else 0.)\n",
    "    # glitch regime\n",
    "    #h[k].Fill(dists_sg[i], mtots_sg[i], 1. if (qstat_sg[i] < qstat_bg_max and qstat_sg[i] >= 1.) else 0.)\n",
    "    # nois regime\n",
    "    #h[k].Fill(dists_sg[i], mtots_sg[i], 1. if qstat_sg[i] < 1. else 0.)\n",
    "\n",
    "print(h[k].GetMinimum(), h[k].GetMaximum())"
   ]
  },
  {
   "cell_type": "code",
   "execution_count": 59,
   "metadata": {},
   "outputs": [
    {
     "name": "stdout",
     "output_type": "stream",
     "text": [
      "7h7m29s (O1)\n"
     ]
    },
    {
     "data": {
      "image/png": "[encoded data removed]",
      "text/plain": [
       "<IPython.core.display.Image object>"
      ]
     },
     "metadata": {},
     "output_type": "display_data"
    }
   ],
   "source": [
    "if iPos==0: LIGO_style.relPosX = 0.18\n",
    "\n",
    "k = 'sgeffqstat'\n",
    "\n",
    "c[k].cd()\n",
    "h[k] = set_hist(h[k], 'd_{L} [Mpc]', 'M_{1} + M_{2} [M_{#odot} ]', '')\n",
    "ROOT.gPad.SetTopMargin(0.08)\n",
    "ROOT.gPad.SetBottomMargin(0.13)\n",
    "ROOT.gPad.SetLeftMargin(0.15)\n",
    "ROOT.gPad.SetRightMargin(0.19) # with colz\n",
    "#ROOT.gPad.SetRightMargin(0.1) # without colz\n",
    "ROOT.TGaxis.fgMaxDigits = 3\n",
    "ROOT.gStyle.SetOptStat(0)\n",
    "ROOT.gPad.SetLogz(0) #0:set False, 1:set True\n",
    "\n",
    "ymin, ymax = 40., 100.\n",
    "h[k].GetYaxis().SetRangeUser(ymin, ymax)\n",
    "h[k].GetYaxis().SetTitleOffset(1.2)\n",
    "h[k].GetYaxis().SetTitleSize(0.06)\n",
    "h[k].GetYaxis().SetLabelSize(0.05)\n",
    "h[k].GetYaxis().SetLabelFont(42)\n",
    "h[k].GetYaxis().SetTitleFont(42)\n",
    "#h[k].GetYaxis().ChangeLabel(1,-1,0,-1,-1,-1, \"\")\n",
    "\n",
    "h[k].GetXaxis().SetTitleOffset(1.0)\n",
    "h[k].GetXaxis().SetTitleSize(0.06)\n",
    "h[k].GetXaxis().SetLabelSize(0.05)\n",
    "h[k].GetXaxis().SetLabelFont(42)\n",
    "h[k].GetXaxis().SetTitleFont(42)\n",
    "h[k].GetXaxis().SetNdivisions(-404)\n",
    "\n",
    "h[k].GetZaxis().SetTitle('Signal efficiency')\n",
    "h[k].GetZaxis().SetTitleOffset(1.)\n",
    "h[k].GetZaxis().SetTitleSize(0.06)\n",
    "h[k].GetZaxis().SetLabelSize(0.05)\n",
    "h[k].GetZaxis().SetTitleFont(42)\n",
    "h[k].GetZaxis().SetLabelFont(42)\n",
    "h[k].GetZaxis().SetNdivisions(-3)\n",
    "\n",
    "# Use built-in palette\n",
    "ROOT.gStyle.SetPalette(51)#53:kDarkBodyRadiator, 51:kDeepSea, 52:Gray\n",
    "# Create custom palette\n",
    "# Based on palette in https://arxiv.org/pdf/1407.0558.pdf\n",
    "npts = 3\n",
    "reds = [1., 151./255., 50./255.]\n",
    "grns = [1., 151./255., 50./255.]\n",
    "blus = [1., 193./255., 0.5]\n",
    "#reds = [1., 138./255., 20./255.]\n",
    "#grns = [1., 138./255., 20./255.]\n",
    "#blus = [1., 172./255., 90./255.]\n",
    "reds = array('d', reds)\n",
    "grns = array('d', grns)\n",
    "blus = array('d', blus)\n",
    "lens = [0., 0.5, 1.]\n",
    "lens = array('d', lens)\n",
    "nconts = 100\n",
    "ROOT.TColor.CreateGradientColorTable(npts, lens, reds, grns, blus, nconts)\n",
    "# To save, but doesnt seem to work\n",
    "#palette0 = ROOT.TColor.CreateGradientColorTable(npts, lens, reds, grns, blus, nconts)\n",
    "#custom_palette = np.array([palette0+i for i in range(nconts)])\n",
    "#custom_palette = array('d', custom_palette)\n",
    "\n",
    "# Invert palette\n",
    "ROOT.TColor.InvertPalette()\n",
    "\n",
    "h[k].SetMaximum(1.)\n",
    "h[k].SetMinimum(0.7)\n",
    "h[k].SetContour(100)\n",
    "h[k].Draw('COLZ')\n",
    "\n",
    "c[k].Draw()\n",
    "\n",
    "LIGO_style.LIGO_style(c[k], iPeriod, iPos)"
   ]
  },
  {
   "cell_type": "code",
   "execution_count": 60,
   "metadata": {},
   "outputs": [
    {
     "name": "stdout",
     "output_type": "stream",
     "text": [
      "0.8687943262411347 1.0\n"
     ]
    },
    {
     "name": "stderr",
     "output_type": "stream",
     "text": [
      "Warning in <TCanvas::Constructor>: Deleting canvas with same name: cdecraFPRinvmax\n",
      "Warning in <TROOT::Append>: Replacing existing TH1: hdecraFPRinvmax (Potential memory leak).\n"
     ]
    }
   ],
   "source": [
    "wd, ht = int(480*1), int(400*1)\n",
    "\n",
    "#thr_fprinv_glitch = thr_coarse[-5] #0.96222246\n",
    "\n",
    "k = 'decraFPRinvmax'\n",
    "c[k] = ROOT.TCanvas('c'+k, 'c'+k, wd, ht)\n",
    "h[k] = ROOT.TProfile2D('h'+k, 'h'+k, 10, 0, 2*np.pi, 20, -np.pi/2., np.pi/2)\n",
    "decs_sg = decs[sg_mask]\n",
    "ras_sg = ras[sg_mask]\n",
    "#y_probs_sg = y_probs[sg_mask]\n",
    "for i in range(len(decs_sg)):\n",
    "    \n",
    "    dec_ = decs_sg[i] if decs_sg[i] < np.pi/2. else decs_sg[i] - np.pi\n",
    "    # top k\n",
    "    #h[k].Fill(ras_sg[i], dec_, 1. if qstat_sg[i] >= 50. else 0.)\n",
    "    #h[k].Fill(ras_sg[i], dec_, 1. if (qstat_sg[i] < 50. and qstat_sg[i] > qstat_bg_max) else 0.)\n",
    "    # high-purity regime\n",
    "    h[k].Fill(ras_sg[i], dec_, 1. if qstat_sg[i] > qstat_bg_max else 0.)\n",
    "    # glitch regime\n",
    "    #h[k].Fill(ras_sg[i], dec_, 1. if (qstat_sg[i] < qstat_bg_max and qstat_sg[i] >= 1.) else 0.)\n",
    "    # nois regime\n",
    "    #h[k].Fill(ras_sg[i], dec_, 1. if qstat_sg[i] < 1. else 0.)\n",
    "\n",
    "print(h[k].GetMinimum(), h[k].GetMaximum())"
   ]
  },
  {
   "cell_type": "code",
   "execution_count": 61,
   "metadata": {},
   "outputs": [
    {
     "name": "stdout",
     "output_type": "stream",
     "text": [
      "7h7m29s (O1)\n"
     ]
    },
    {
     "data": {
      "image/png": "[encoded data removed]",
      "text/plain": [
       "<IPython.core.display.Image object>"
      ]
     },
     "metadata": {},
     "output_type": "display_data"
    }
   ],
   "source": [
    "if iPos==0: LIGO_style.relPosX = 0.18\n",
    "\n",
    "k = 'decraFPRinvmax'\n",
    "\n",
    "c[k].cd()\n",
    "h[k] = set_hist(h[k], 'Right Ascension', 'Declination', '')\n",
    "ROOT.gPad.SetTopMargin(0.08)\n",
    "ROOT.gPad.SetBottomMargin(0.13)\n",
    "ROOT.gPad.SetLeftMargin(0.15)\n",
    "ROOT.gPad.SetRightMargin(0.19) # with colz\n",
    "#ROOT.gPad.SetRightMargin(0.1) # without colz\n",
    "ROOT.TGaxis.fgMaxDigits = 3\n",
    "ROOT.gStyle.SetOptStat(0)\n",
    "ROOT.gPad.SetLogz(0) #0:set False, 1:set True\n",
    "\n",
    "ymin, ymax = 40., 100.\n",
    "#h[k].GetYaxis().SetRangeUser(ymin, ymax)\n",
    "h[k].GetYaxis().SetTitleOffset(1.2)\n",
    "h[k].GetYaxis().SetTitleSize(0.06)\n",
    "h[k].GetYaxis().SetLabelSize(0.05)\n",
    "h[k].GetYaxis().SetLabelFont(42)\n",
    "h[k].GetYaxis().SetTitleFont(42)\n",
    "h[k].GetYaxis().SetNdivisions(-404)\n",
    "h[k].GetYaxis().ChangeLabel(1,-1,-1,-1,-1,-1, \"-#pi/2\")\n",
    "h[k].GetYaxis().ChangeLabel(2,-1,-1,-1,-1,-1, \"-#pi/4\")\n",
    "h[k].GetYaxis().ChangeLabel(3,-1,-1,-1,-1,-1, \"0\")\n",
    "h[k].GetYaxis().ChangeLabel(4,-1,-1,-1,-1,-1, \"#pi/4\")\n",
    "h[k].GetYaxis().ChangeLabel(5,-1,-1,-1,-1,-1, \"#pi/2\")\n",
    "\n",
    "h[k].GetXaxis().SetTitleOffset(1.0)\n",
    "h[k].GetXaxis().SetTitleSize(0.06)\n",
    "h[k].GetXaxis().SetLabelSize(0.05)\n",
    "h[k].GetXaxis().SetLabelFont(42)\n",
    "h[k].GetXaxis().SetTitleFont(42)\n",
    "h[k].GetXaxis().SetNdivisions(-404)\n",
    "h[k].GetXaxis().ChangeLabel(1,-1,-1,-1,-1,-1, \"0\")\n",
    "h[k].GetXaxis().ChangeLabel(2,-1,-1,-1,-1,-1, \"#pi/2\")\n",
    "h[k].GetXaxis().ChangeLabel(3,-1,-1,-1,-1,-1, \"#pi\")\n",
    "h[k].GetXaxis().ChangeLabel(-2,-1,-1,-1,-1,-1, \"3#pi/2\")\n",
    "h[k].GetXaxis().ChangeLabel(-1,-1,-1,-1,-1,-1, \"2#pi\")\n",
    "\n",
    "h[k].GetZaxis().SetTitle('Signal efficiency')\n",
    "h[k].GetZaxis().SetTitleOffset(1.)\n",
    "h[k].GetZaxis().SetTitleSize(0.06)\n",
    "h[k].GetZaxis().SetLabelSize(0.05)\n",
    "h[k].GetZaxis().SetTitleFont(42)\n",
    "h[k].GetZaxis().SetLabelFont(42)\n",
    "h[k].GetZaxis().SetNdivisions(-2)\n",
    "\n",
    "h[k].SetMaximum(1.)\n",
    "h[k].SetMinimum(0.8)\n",
    "\n",
    "# Use built-in palette\n",
    "ROOT.gStyle.SetPalette(51)#53:kDarkBodyRadiator, 51:kDeepSea, 52:Gray\n",
    "# Create custom palette\n",
    "# Based on palette in https://arxiv.org/pdf/1407.0558.pdf\n",
    "npts = 3\n",
    "reds = [1., 151./255., 50./255.]\n",
    "grns = [1., 151./255., 50./255.]\n",
    "blus = [1., 193./255., 0.5]\n",
    "#reds = [1., 138./255., 20./255.]\n",
    "#grns = [1., 138./255., 20./255.]\n",
    "#blus = [1., 172./255., 90./255.]\n",
    "reds = array('d', reds)\n",
    "grns = array('d', grns)\n",
    "blus = array('d', blus)\n",
    "lens = [0., 0.5, 1.]\n",
    "lens = array('d', lens)\n",
    "nconts = 100\n",
    "ROOT.TColor.CreateGradientColorTable(npts, lens, reds, grns, blus, nconts)\n",
    "# To save, but doesnt seem to work\n",
    "#palette0 = ROOT.TColor.CreateGradientColorTable(npts, lens, reds, grns, blus, nconts)\n",
    "#custom_palette = np.array([palette0+i for i in range(nconts)])\n",
    "#custom_palette = array('d', custom_palette)\n",
    "\n",
    "# Invert palette\n",
    "ROOT.TColor.InvertPalette()\n",
    "\n",
    "h[k].SetContour(100)\n",
    "h[k].Draw('COLZ')\n",
    "\n",
    "c[k].Draw()\n",
    "c[k].Update()\n",
    "\n",
    "LIGO_style.LIGO_style(c[k], iPeriod, iPos)"
   ]
  }
 ],
 "metadata": {
  "kernelspec": {
   "display_name": "Python 3",
   "language": "python",
   "name": "python3"
  },
  "language_info": {
   "codemirror_mode": {
    "name": "ipython",
    "version": 3
   },
   "file_extension": ".py",
   "mimetype": "text/x-python",
   "name": "python",
   "nbconvert_exporter": "python",
   "pygments_lexer": "ipython3",
   "version": "3.6.13"
  }
 },
 "nbformat": 4,
 "nbformat_minor": 4
}
