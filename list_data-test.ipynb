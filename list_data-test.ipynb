{
 "cells": [
  {
   "cell_type": "code",
   "execution_count": 16,
   "id": "622ae2f0",
   "metadata": {},
   "outputs": [],
   "source": [
    "import os, glob, time\n",
    "import numpy as np\n",
    "from numpy.lib.stride_tricks import as_strided\n",
    "from proc_utils import *\n",
    "\n",
    "from gwdatafind import find_urls\n",
    "#import gwpy as gwpy\n",
    "from gwpy.io.gwf import get_channel_names\n",
    "from gwpy.timeseries import TimeSeries\n",
    "from gwpy.signal import filter_design\n",
    "#import pycbc as pycbc\n",
    "from pycbc import frame\n",
    "from pycbc.waveform import get_td_waveform\n",
    "from pycbc.detector import Detector\n",
    "\n",
    "import pyarrow.parquet as pq\n",
    "import pyarrow as pa\n",
    "\n",
    "import json\n",
    "\n",
    "import matplotlib.pyplot as plt\n",
    "# Not the same module the TimeSeries.Plot() calls, unfortunately\n",
    "#plt.rcParams['pdf.fonttype'] = 42\n",
    "#plt.rcParams['mathtext.fontset'] = 'cm'\n",
    "%matplotlib inline"
   ]
  },
  {
   "cell_type": "code",
   "execution_count": 48,
   "id": "666b22e1",
   "metadata": {},
   "outputs": [],
   "source": [
    "###################################################################\n",
    "# Processing params\n",
    "t_window  = 6 #16 #12 # s\n",
    "t_stride  = 1 #4 #12 # s"
   ]
  },
  {
   "cell_type": "code",
   "execution_count": 47,
   "id": "f5a20164",
   "metadata": {},
   "outputs": [
    {
     "name": "stdout",
     "output_type": "stream",
     "text": [
      ">> Fetching data for GPS time: [1126076416.000000, 1137250304.000000)\n",
      ".. total time: 11173888.000000 s\n",
      ".. N files expected: 2729\n",
      ".. host: datafind.gw-openscience.org\n",
      "1845\n"
     ]
    },
    {
     "data": {
      "text/plain": [
       "\"\\nprint('>> Input files...')\\nprint('.. cwd:',os.getcwd())\\n# https://www.gw-openscience.org/archive/data/O1/1125122048/H-H1_LOSC_4_V1-1126072320-4096.gwf, 1st\\n# https://www.gw-openscience.org/archive/data/O1/1125122048/H-H1_LOSC_4_V1-1126076416-4096.gwf, 2nd\\n# ...\\n# https://www.gw-openscience.org/archive/data/O1/1136656384/H-H1_LOSC_4_V1-1137250304-4096.gwf, last\\nmydir = 'data/O1/test'\\ninputfiles = ['%s/%s'%(mydir, f.split('/')[-1]) for f in files]\\nassert len(inputfiles) == ntimes\\nfor f in inputfiles:\\n    print('..',f)\\n    assert os.path.exists(f)\\n    \\nseed_from_file = int(inputfiles[0].split('-')[-2])\\nprint('.. rand seed to be used:',seed_from_file)\\n\""
      ]
     },
     "execution_count": 47,
     "metadata": {},
     "output_type": "execute_result"
    }
   ],
   "source": [
    "###################################################################\n",
    "# Read in inputs\n",
    "#start = 1126256640 # GW150914 file start\n",
    "#start = 1126259446 # GW150914: 32 s window start, until 1126259478\n",
    "\n",
    "#start = 1126072320 # O1, first: lots of nans\n",
    "start = 1126076416 # O1, second\n",
    "\n",
    "#end_offset = 1\n",
    "end_offset = t_window - t_stride # how much to read into following file, for continuity at file boundaries\n",
    "\n",
    "end = 1126080512+end_offset # O1, third\n",
    "#end = start+t_window #32 # s\n",
    "\n",
    "end = 1137250304\n",
    "\n",
    "print('>> Fetching data for GPS time: [%f, %f)'%(start, end))\n",
    "print('.. total time: %f s'%(end-start))\n",
    "ntimes = 1 + (end-start)//4096\n",
    "print('.. N files expected:',ntimes)\n",
    "\n",
    "#host = 'gw-openscience.org' # open data url but doesnt work, has to be done manually, but can also use pycbc get()\n",
    "host = 'datafind.gw-openscience.org' # cvmfs, see: https://computing.docs.ligo.org/guide/cvmfs/#gwosc.osgstorage.org\n",
    "#host = 'gw-openscience.org/archive/links/'\n",
    "print('.. host:',host)\n",
    "files = find_urls('H', 'H1_LOSC_4_V1', start, end, host=host) # fails if invalid range given (e.g. start > stop)\n",
    "\n",
    "print(len(files))\n",
    "'''\n",
    "print('>> Input files...')\n",
    "print('.. cwd:',os.getcwd())\n",
    "# https://www.gw-openscience.org/archive/data/O1/1125122048/H-H1_LOSC_4_V1-1126072320-4096.gwf, 1st\n",
    "# https://www.gw-openscience.org/archive/data/O1/1125122048/H-H1_LOSC_4_V1-1126076416-4096.gwf, 2nd\n",
    "# ...\n",
    "# https://www.gw-openscience.org/archive/data/O1/1136656384/H-H1_LOSC_4_V1-1137250304-4096.gwf, last\n",
    "mydir = 'data/O1/test'\n",
    "inputfiles = ['%s/%s'%(mydir, f.split('/')[-1]) for f in files]\n",
    "assert len(inputfiles) == ntimes\n",
    "for f in inputfiles:\n",
    "    print('..',f)\n",
    "    assert os.path.exists(f)\n",
    "    \n",
    "seed_from_file = int(inputfiles[0].split('-')[-2])\n",
    "print('.. rand seed to be used:',seed_from_file)\n",
    "'''"
   ]
  },
  {
   "cell_type": "code",
   "execution_count": 23,
   "id": "b240c3b2",
   "metadata": {},
   "outputs": [
    {
     "name": "stdout",
     "output_type": "stream",
     "text": [
      "/export/home/phys/mbandrews/work/gw\n"
     ]
    }
   ],
   "source": [
    "print(os.getcwd())\n",
    "f = open('data/O1/full/O1_list.json')\n",
    "data = json.load(f)"
   ]
  },
  {
   "cell_type": "code",
   "execution_count": 42,
   "id": "ff90164c",
   "metadata": {},
   "outputs": [
    {
     "name": "stdout",
     "output_type": "stream",
     "text": [
      "dict_keys(['dataset', 'GPSstart', 'GPSend', 'strain'])\n",
      "{'GPSstart': 1126072320, 'UTCstart': '2015-09-12T05:51:43', 'detector': 'H1', 'sampling_rate': 4096, 'duration': 4096, 'format': 'hdf5', 'url': 'https://www.gw-openscience.org/archive/data/O1/1125122048/H-H1_LOSC_4_V1-1126072320-4096.hdf5', 'min_strain': -3.93552169842707e-18, 'max_strain': 2.71796863909121e-18, 'mean_strain': -8.2569175207756e-25, 'stdev_strain': 1.86526167498977e-19, 'duty_cycle': 70.4833984375, 'BLRMS200': 1.14062458698724e-23, 'BLRMS1000': 5.27099187090827e-22, 'BNS': 51.8116043916147}\n",
      "{'GPSstart': 1126072320, 'UTCstart': '2015-09-12T05:51:43', 'detector': 'H1', 'sampling_rate': 4096, 'duration': 4096, 'format': 'gwf', 'url': 'https://www.gw-openscience.org/archive/data/O1/1125122048/H-H1_LOSC_4_V1-1126072320-4096.gwf', 'min_strain': -3.93552169842707e-18, 'max_strain': 2.71796863909121e-18, 'mean_strain': -8.2569175207756e-25, 'stdev_strain': 1.86526167498977e-19, 'duty_cycle': 70.4833984375, 'BLRMS200': 1.14062458698724e-23, 'BLRMS1000': 5.27099187090827e-22, 'BNS': 51.8116043916147}\n",
      "<class 'dict_keys'>\n",
      "gwf\n"
     ]
    }
   ],
   "source": [
    "print(data.keys())\n",
    "len(data['strain'][0])\n",
    "print(data['strain'][0])\n",
    "print(data['strain'][1])\n",
    "print(type(data['strain'][1].keys()))\n",
    "print(data['strain'][1]['format'])\n",
    "gwf_data = []\n",
    "for d in data['strain']:\n",
    "    if d['format'] != 'gwf': continue\n",
    "    gwf_data_ = {}\n",
    "    for k in d.keys():\n",
    "        gwf_data_[k] = d[k]\n",
    "    gwf_data.append(gwf_data_)"
   ]
  },
  {
   "cell_type": "code",
   "execution_count": 52,
   "id": "e786588e",
   "metadata": {},
   "outputs": [
    {
     "name": "stdout",
     "output_type": "stream",
     "text": [
      "https://www.gw-openscience.org/archive/data/O1/1125122048/H-H1_LOSC_4_V1-1126072320-4096.gwf\n"
     ]
    }
   ],
   "source": [
    "len(gwf_data)\n",
    "print(gwf_data[0]['url'])\n",
    "test_url = gwf_data[0]['url']"
   ]
  },
  {
   "cell_type": "code",
   "execution_count": 53,
   "id": "ac529edb",
   "metadata": {},
   "outputs": [],
   "source": [
    "urls = [u['url'] for u in gwf_data]"
   ]
  },
  {
   "cell_type": "code",
   "execution_count": 56,
   "id": "0ef5dd87",
   "metadata": {},
   "outputs": [
    {
     "name": "stdout",
     "output_type": "stream",
     "text": [
      "['https://www.gw-openscience.org/archive/data/O1/1125122048/H-H1_LOSC_4_V1-1126072320-4096.gwf', 'https://www.gw-openscience.org/archive/data/O1/1125122048/H-H1_LOSC_4_V1-1126076416-4096.gwf', 'https://www.gw-openscience.org/archive/data/O1/1125122048/H-H1_LOSC_4_V1-1126080512-4096.gwf', 'https://www.gw-openscience.org/archive/data/O1/1125122048/H-H1_LOSC_4_V1-1126084608-4096.gwf', 'https://www.gw-openscience.org/archive/data/O1/1125122048/H-H1_LOSC_4_V1-1126088704-4096.gwf', 'https://www.gw-openscience.org/archive/data/O1/1125122048/H-H1_LOSC_4_V1-1126092800-4096.gwf', 'https://www.gw-openscience.org/archive/data/O1/1125122048/H-H1_LOSC_4_V1-1126096896-4096.gwf', 'https://www.gw-openscience.org/archive/data/O1/1125122048/H-H1_LOSC_4_V1-1126100992-4096.gwf', 'https://www.gw-openscience.org/archive/data/O1/1125122048/H-H1_LOSC_4_V1-1126105088-4096.gwf', 'https://www.gw-openscience.org/archive/data/O1/1125122048/H-H1_LOSC_4_V1-1126109184-4096.gwf']\n",
      "https://www.gw-openscience.org/archive/data/O1/1125122048/H-H1_LOSC_4_V1-1126072320-4096.gwf\n",
      "https://www.gw-openscience.org/archive/data/O1/1125122048/H-H1_LOSC_4_V1-1126076416-4096.gwf\n",
      "https://www.gw-openscience.org/archive/data/O1/1125122048/H-H1_LOSC_4_V1-1126080512-4096.gwf\n",
      "https://www.gw-openscience.org/archive/data/O1/1125122048/H-H1_LOSC_4_V1-1126084608-4096.gwf\n",
      "https://www.gw-openscience.org/archive/data/O1/1125122048/H-H1_LOSC_4_V1-1126088704-4096.gwf\n",
      "https://www.gw-openscience.org/archive/data/O1/1125122048/H-H1_LOSC_4_V1-1126092800-4096.gwf\n",
      "https://www.gw-openscience.org/archive/data/O1/1125122048/H-H1_LOSC_4_V1-1126096896-4096.gwf\n",
      "https://www.gw-openscience.org/archive/data/O1/1125122048/H-H1_LOSC_4_V1-1126100992-4096.gwf\n",
      "https://www.gw-openscience.org/archive/data/O1/1125122048/H-H1_LOSC_4_V1-1126105088-4096.gwf\n",
      "https://www.gw-openscience.org/archive/data/O1/1125122048/H-H1_LOSC_4_V1-1126109184-4096.gwf\n"
     ]
    }
   ],
   "source": [
    "len(urls)\n",
    "print(urls[:10])\n",
    "for u in urls[:10]:\n",
    "    print(u)"
   ]
  },
  {
   "cell_type": "code",
   "execution_count": 51,
   "id": "af202850",
   "metadata": {},
   "outputs": [
    {
     "data": {
      "text/plain": [
       "0"
      ]
     },
     "execution_count": 51,
     "metadata": {},
     "output_type": "execute_result"
    }
   ],
   "source": [
    "os.system('wget %s'%test_url)"
   ]
  },
  {
   "cell_type": "code",
   "execution_count": 8,
   "id": "748cdcaf",
   "metadata": {},
   "outputs": [
    {
     "name": "stdout",
     "output_type": "stream",
     "text": [
      "file://localhost/cvmfs/gwosc.osgstorage.org/gwdata/O1/strain.4k/frame.v1/H1/1125122048/H-H1_LOSC_4_V1-1126076416-4096.gwf\n",
      "1126076416\n"
     ]
    }
   ],
   "source": [
    "len(files)\n",
    "print(files[0])\n",
    "times = [int(f.split('-')[-2]) for f in files]\n",
    "print(times[0])"
   ]
  }
 ],
 "metadata": {
  "kernelspec": {
   "display_name": "Python 3",
   "language": "python",
   "name": "python3"
  },
  "language_info": {
   "codemirror_mode": {
    "name": "ipython",
    "version": 3
   },
   "file_extension": ".py",
   "mimetype": "text/x-python",
   "name": "python",
   "nbconvert_exporter": "python",
   "pygments_lexer": "ipython3",
   "version": "3.6.13"
  }
 },
 "nbformat": 4,
 "nbformat_minor": 5
}
